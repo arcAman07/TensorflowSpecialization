{
 "cells": [
  {
   "cell_type": "code",
   "execution_count": 1,
   "metadata": {
    "colab": {},
    "colab_type": "code",
    "id": "wYtuKeK0dImp"
   },
   "outputs": [],
   "source": [
    "# ATTENTION: Please do not alter any of the provided code in the exercise. Only add your own code where indicated\n",
    "# ATTENTION: Please do not add or remove any cells in the exercise. The grader will check specific cells based on the cell position.\n",
    "# ATTENTION: Please use the provided epoch values when training.\n",
    "\n",
    "import csv\n",
    "import numpy as np\n",
    "import tensorflow as tf\n",
    "from tensorflow.keras.preprocessing.image import ImageDataGenerator\n",
    "from os import getcwd"
   ]
  },
  {
   "cell_type": "code",
   "execution_count": 2,
   "metadata": {
    "colab": {},
    "colab_type": "code",
    "id": "4kxw-_rmcnVu"
   },
   "outputs": [
    {
     "name": "stdout",
     "output_type": "stream",
     "text": [
      "(27455, 28, 28)\n",
      "(27455,)\n",
      "(7172, 28, 28)\n",
      "(7172,)\n"
     ]
    }
   ],
   "source": [
    "def get_data(filename):\n",
    "  # You will need to write code that will read the file passed\n",
    "  # into this function. The first line contains the column headers\n",
    "  # so you should ignore it\n",
    "  # Each successive line contians 785 comma separated values between 0 and 255\n",
    "  # The first value is the label\n",
    "  # The rest are the pixel values for that picture\n",
    "  # The function will return 2 np.array types. One with all the labels\n",
    "  # One with all the images\n",
    "  #\n",
    "  # Tips: \n",
    "  # If you read a full line (as 'row') then row[0] has the label\n",
    "  # and row[1:785] has the 784 pixel values\n",
    "  # Take a look at np.array_split to turn the 784 pixels into 28x28\n",
    "  # You are reading in strings, but need the values to be floats\n",
    "  # Check out np.array().astype for a conversion\n",
    "    with open(filename) as training_file:\n",
    "        all_lines = training_file.readlines()[1:] #remove header\n",
    "        length = len(all_lines)\n",
    "        labels = np.zeros(length)\n",
    "        images = np.zeros((length, 28, 28))\n",
    "        for idx, line in enumerate(all_lines):\n",
    "            line = line.strip().split(',')\n",
    "            if not line:\n",
    "                continue\n",
    "            #add the label\n",
    "            labels[idx] = int(line[0])\n",
    "            #add the image\n",
    "            image = np.asarray(line[1:], dtype=np.float32)\n",
    "            image = np.array_split(image, 28)\n",
    "            images[idx, :, :] = image\n",
    "      # Your code starts here\n",
    "    \n",
    "      # Your code ends here\n",
    "    return images, labels\n",
    "\n",
    "path_sign_mnist_train = f\"{getcwd()}/../tmp2/sign_mnist_train.csv\"\n",
    "path_sign_mnist_test = f\"{getcwd()}/../tmp2/sign_mnist_test.csv\"\n",
    "training_images, training_labels = get_data(path_sign_mnist_train)\n",
    "testing_images, testing_labels = get_data(path_sign_mnist_test)\n",
    "\n",
    "# Keep these\n",
    "print(training_images.shape)\n",
    "print(training_labels.shape)\n",
    "print(testing_images.shape)\n",
    "print(testing_labels.shape)\n",
    "\n",
    "# Their output should be:\n",
    "# (27455, 28, 28)\n",
    "# (27455,)\n",
    "# (7172, 28, 28)\n",
    "# (7172,)"
   ]
  },
  {
   "cell_type": "code",
   "execution_count": 3,
   "metadata": {
    "colab": {},
    "colab_type": "code",
    "id": "awoqRpyZdQkD"
   },
   "outputs": [
    {
     "name": "stdout",
     "output_type": "stream",
     "text": [
      "(27455, 28, 28, 1)\n",
      "(7172, 28, 28, 1)\n"
     ]
    }
   ],
   "source": [
    "# In this section you will have to add another dimension to the data\n",
    "# So, for example, if your array is (10000, 28, 28)\n",
    "# You will need to make it (10000, 28, 28, 1)\n",
    "# Hint: np.expand_dims\n",
    "\n",
    "training_images = np.expand_dims(training_images, axis=3)\n",
    "testing_images = np.expand_dims(testing_images, axis=3)\n",
    "\n",
    "\n",
    "# Create an ImageDataGenerator and do Image Augmentation\n",
    "train_datagen = ImageDataGenerator(\n",
    "    rescale=1./255,\n",
    "    rotation_range=40,\n",
    "    width_shift_range=0.2,\n",
    "    height_shift_range=0.2,\n",
    "    shear_range=0.2,\n",
    "    zoom_range=0.2,\n",
    "    fill_mode='nearest',\n",
    "    horizontal_flip=True\n",
    ")\n",
    "    \n",
    "\n",
    "validation_datagen = ImageDataGenerator(\n",
    "     rescale=1./255)\n",
    "    # Your Code Here)\n",
    "\n",
    "# Keep These\n",
    "print(training_images.shape)\n",
    "print(testing_images.shape)\n",
    "    \n",
    "# Their output should be:\n",
    "# (27455, 28, 28, 1)\n",
    "# (7172, 28, 28, 1)"
   ]
  },
  {
   "cell_type": "code",
   "execution_count": 4,
   "metadata": {
    "colab": {},
    "colab_type": "code",
    "id": "Rmb7S32cgRqS"
   },
   "outputs": [
    {
     "name": "stdout",
     "output_type": "stream",
     "text": [
      "Epoch 1/20\n",
      "858/858 [==============================] - 59s 69ms/step - loss: 2.5839 - accuracy: 0.2069 - val_loss: 1.5889 - val_accuracy: 0.4948\n",
      "Epoch 2/20\n",
      "858/858 [==============================] - 62s 72ms/step - loss: 1.8181 - accuracy: 0.4186 - val_loss: 1.1402 - val_accuracy: 0.5732\n",
      "Epoch 3/20\n",
      "858/858 [==============================] - 131s 152ms/step - loss: 1.4021 - accuracy: 0.5419 - val_loss: 0.7619 - val_accuracy: 0.7249\n",
      "Epoch 4/20\n",
      "858/858 [==============================] - 129s 151ms/step - loss: 1.1550 - accuracy: 0.6214 - val_loss: 0.6928 - val_accuracy: 0.7713\n",
      "Epoch 5/20\n",
      "858/858 [==============================] - 135s 158ms/step - loss: 0.9757 - accuracy: 0.6758 - val_loss: 0.5343 - val_accuracy: 0.8171\n",
      "Epoch 6/20\n",
      "858/858 [==============================] - 87s 102ms/step - loss: 0.8517 - accuracy: 0.7141 - val_loss: 0.3873 - val_accuracy: 0.8767\n",
      "Epoch 7/20\n",
      "858/858 [==============================] - 53s 61ms/step - loss: 0.7625 - accuracy: 0.7459 - val_loss: 0.4234 - val_accuracy: 0.8595\n",
      "Epoch 8/20\n",
      "858/858 [==============================] - 53s 62ms/step - loss: 0.6969 - accuracy: 0.7641 - val_loss: 0.3368 - val_accuracy: 0.8878\n",
      "Epoch 9/20\n",
      "858/858 [==============================] - 51s 59ms/step - loss: 0.6375 - accuracy: 0.7859 - val_loss: 0.2399 - val_accuracy: 0.9200\n",
      "Epoch 10/20\n",
      "858/858 [==============================] - 52s 61ms/step - loss: 0.6005 - accuracy: 0.7985 - val_loss: 0.2163 - val_accuracy: 0.9281\n",
      "Epoch 11/20\n",
      "858/858 [==============================] - 50s 58ms/step - loss: 0.5572 - accuracy: 0.8157 - val_loss: 0.2516 - val_accuracy: 0.9180\n",
      "Epoch 12/20\n",
      "858/858 [==============================] - 52s 61ms/step - loss: 0.5206 - accuracy: 0.8261 - val_loss: 0.2522 - val_accuracy: 0.9070\n",
      "Epoch 13/20\n",
      "858/858 [==============================] - 50s 58ms/step - loss: 0.4989 - accuracy: 0.8342 - val_loss: 0.1972 - val_accuracy: 0.9318\n",
      "Epoch 14/20\n",
      "858/858 [==============================] - 50s 58ms/step - loss: 0.4637 - accuracy: 0.8451 - val_loss: 0.2033 - val_accuracy: 0.9327\n",
      "Epoch 15/20\n",
      "858/858 [==============================] - 50s 58ms/step - loss: 0.4472 - accuracy: 0.8496 - val_loss: 0.1851 - val_accuracy: 0.9407\n",
      "Epoch 16/20\n",
      "858/858 [==============================] - 51s 59ms/step - loss: 0.4293 - accuracy: 0.8568 - val_loss: 0.1596 - val_accuracy: 0.9407\n",
      "Epoch 17/20\n",
      "858/858 [==============================] - 51s 60ms/step - loss: 0.4192 - accuracy: 0.8595 - val_loss: 0.1897 - val_accuracy: 0.9332\n",
      "Epoch 18/20\n",
      "858/858 [==============================] - 50s 59ms/step - loss: 0.3927 - accuracy: 0.8689 - val_loss: 0.1618 - val_accuracy: 0.9434\n",
      "Epoch 19/20\n",
      "858/858 [==============================] - 52s 60ms/step - loss: 0.3871 - accuracy: 0.8707 - val_loss: 0.1260 - val_accuracy: 0.9607\n",
      "Epoch 20/20\n",
      "858/858 [==============================] - 50s 58ms/step - loss: 0.3739 - accuracy: 0.8744 - val_loss: 0.1218 - val_accuracy: 0.9626\n"
     ]
    },
    {
     "data": {
      "text/plain": [
       "[102.17536707557385, 0.76143336]"
      ]
     },
     "execution_count": 4,
     "metadata": {},
     "output_type": "execute_result"
    }
   ],
   "source": [
    "# Define the model\n",
    "# Use no more than 2 Conv2D and 2 MaxPooling2D\n",
    "from tensorflow.keras.optimizers import RMSprop\n",
    "model = tf.keras.models.Sequential([\n",
    "    # Your Code Here\n",
    "tf.keras.layers.Conv2D(32, (3, 3), activation='relu', input_shape=(28, 28, 1)),\n",
    "tf.keras.layers.MaxPooling2D(2, 2),\n",
    "tf.keras.layers.Conv2D(64, (3, 3), activation='relu'),\n",
    "tf.keras.layers.MaxPooling2D(2, 2),\n",
    "tf.keras.layers.Flatten(),\n",
    "tf.keras.layers.Dropout(0.2),\n",
    "tf.keras.layers.Dense(512, activation='relu'),\n",
    "tf.keras.layers.Dense(26, activation='softmax')]\n",
    "    )\n",
    "\n",
    "# Compile Model. \n",
    "model.compile(optimizer = 'adam', \n",
    "              loss = 'sparse_categorical_crossentropy', \n",
    "              metrics = ['accuracy'])\n",
    "\n",
    "# Train the Model\n",
    "train_generator = train_datagen.flow(training_images, training_labels)\n",
    "validation_generator = validation_datagen.flow(testing_images, testing_labels)\n",
    "history = model.fit_generator(train_generator,\n",
    "                              epochs=20,\n",
    "                              verbose=1,\n",
    "                              validation_data=validation_generator)\n",
    "\n",
    "model.evaluate(testing_images, testing_labels, verbose=0)"
   ]
  },
  {
   "cell_type": "code",
   "execution_count": 5,
   "metadata": {
    "colab": {},
    "colab_type": "code",
    "id": "_Q3Zpr46dsij"
   },
   "outputs": [
    {
     "data": {
      "image/png": "[encoded data removed]",
      "text/plain": [
       "<Figure size 432x288 with 1 Axes>"
      ]
     },
     "metadata": {
      "needs_background": "light"
     },
     "output_type": "display_data"
    },
    {
     "data": {
      "image/png": "[encoded data removed]",
      "text/plain": [
       "<Figure size 432x288 with 1 Axes>"
      ]
     },
     "metadata": {
      "needs_background": "light"
     },
     "output_type": "display_data"
    }
   ],
   "source": [
    "# Plot the chart for accuracy and loss on both training and validation\n",
    "%matplotlib inline\n",
    "import matplotlib.pyplot as plt\n",
    "acc = history.history['accuracy']\n",
    "val_acc = history.history['val_accuracy']\n",
    "loss = history.history['loss']\n",
    "val_loss = history.history['val_loss']\n",
    "\n",
    "epochs = range(len(acc))\n",
    "\n",
    "plt.plot(epochs, acc, 'r', label='Training accuracy')\n",
    "plt.plot(epochs, val_acc, 'b', label='Validation accuracy')\n",
    "plt.title('Training and validation accuracy')\n",
    "plt.legend()\n",
    "plt.figure()\n",
    "\n",
    "plt.plot(epochs, loss, 'r', label='Training Loss')\n",
    "plt.plot(epochs, val_loss, 'b', label='Validation Loss')\n",
    "plt.title('Training and validation loss')\n",
    "plt.legend()\n",
    "\n",
    "plt.show()"
   ]
  },
  {
   "cell_type": "markdown",
   "metadata": {},
   "source": [
    "# Submission Instructions"
   ]
  },
  {
   "cell_type": "code",
   "execution_count": 6,
   "metadata": {},
   "outputs": [],
   "source": [
    "# Now click the 'Submit Assignment' button above."
   ]
  },
  {
   "cell_type": "markdown",
   "metadata": {},
   "source": [
    "# When you're done or would like to take a break, please run the two cells below to save your work and close the Notebook. This will free up resources for your fellow learners. "
   ]
  },
  {
   "cell_type": "code",
   "execution_count": null,
   "metadata": {},
   "outputs": [],
   "source": [
    "%%javascript\n",
    "<!-- Save the notebook -->\n",
    "IPython.notebook.save_checkpoint();"
   ]
  },
  {
   "cell_type": "code",
   "execution_count": null,
   "metadata": {},
   "outputs": [],
   "source": [
    "%%javascript\n",
    "IPython.notebook.session.delete();\n",
    "window.onbeforeunload = null\n",
    "setTimeout(function() { window.close(); }, 1000);"
   ]
  }
 ],
 "metadata": {
  "colab": {
   "name": "Exercise 8 - Question.ipynb",
   "provenance": []
  },
  "coursera": {
   "course_slug": "convolutional-neural-networks-tensorflow",
   "graded_item_id": "8mIh8",
   "launcher_item_id": "gg95t"
  },
  "kernelspec": {
   "display_name": "Python 3",
   "language": "python",
   "name": "python3"
  },
  "language_info": {
   "codemirror_mode": {
    "name": "ipython",
    "version": 3
   },
   "file_extension": ".py",
   "mimetype": "text/x-python",
   "name": "python",
   "nbconvert_exporter": "python",
   "pygments_lexer": "ipython3",
   "version": "3.6.8"
  }
 },
 "nbformat": 4,
 "nbformat_minor": 1
}
